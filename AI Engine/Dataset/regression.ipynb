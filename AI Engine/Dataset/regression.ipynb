{
 "cells": [
  {
   "cell_type": "code",
   "execution_count": 1,
   "metadata": {},
   "outputs": [],
   "source": [
    "import pandas as pd, pickle,numpy as np\n",
    "from sklearn.linear_model import LinearRegression\n",
    "from sklearn.model_selection import cross_val_score\n",
    "from sklearn.metrics import make_scorer, mean_squared_error"
   ]
  },
  {
   "cell_type": "code",
   "execution_count": 32,
   "metadata": {},
   "outputs": [
    {
     "name": "stderr",
     "output_type": "stream",
     "text": [
      "C:\\Users\\nayem\\AppData\\Local\\Temp\\ipykernel_19412\\846426532.py:7: FutureWarning: A value is trying to be set on a copy of a DataFrame or Series through chained assignment using an inplace method.\n",
      "The behavior will change in pandas 3.0. This inplace method will never work because the intermediate object on which we are setting values always behaves as a copy.\n",
      "\n",
      "For example, when doing 'df[col].method(value, inplace=True)', try using 'df.method({col: value}, inplace=True)' or df[col] = df[col].method(value) instead, to perform the operation inplace on the original object.\n",
      "\n",
      "\n",
      "  df['bz_gsm_h'].fillna(df['bz_gsm'].mean(), inplace=True)\n"
     ]
    }
   ],
   "source": [
    "\n",
    "df = pd.read_csv('severity-classified-scaled.csv')\n",
    "\n",
    "# Create a new column 'bz_gsm_h' with the bz_gsm value from the next row\n",
    "df['bz_gsm_h'] = df['bz_gsm'].shift(-1)\n",
    "\n",
    "# Fill the last row and any missing values in 'bz_gsm_h' with the mean of 'bz_gsm'\n",
    "df['bz_gsm_h'].fillna(df['bz_gsm'].mean(), inplace=True)"
   ]
  },
  {
   "cell_type": "code",
   "execution_count": 33,
   "metadata": {},
   "outputs": [],
   "source": [
    "# Using only specified columns for training\n",
    "columns_to_use = ['month', 'day', 'hour', 'bx_gsm', 'by_gsm', 'bz_gsm', 'bt', 'speed', 'density', 'temp']\n",
    "X = df[columns_to_use]\n",
    "y = df['bz_gsm_h']"
   ]
  },
  {
   "cell_type": "code",
   "execution_count": 34,
   "metadata": {},
   "outputs": [
    {
     "name": "stdout",
     "output_type": "stream",
     "text": [
      "5-Fold Cross-Validation MSE Scores: [0.00244777 0.0021526  0.00195366 0.00185627 0.00150665]\n",
      "Mean MSE: 0.001983393429760459\n"
     ]
    }
   ],
   "source": [
    "model = LinearRegression()\n",
    "\n",
    "mse_scorer = make_scorer(mean_squared_error)\n",
    "mse_scores = cross_val_score(model, X, y, cv=5, scoring=mse_scorer)\n",
    "print(f'5-Fold Cross-Validation MSE Scores: {mse_scores}')\n",
    "print(f'Mean MSE: {mse_scores.mean()}')"
   ]
  },
  {
   "cell_type": "code",
   "execution_count": 35,
   "metadata": {},
   "outputs": [],
   "source": [
    "model.fit(X,y)\n",
    "\n",
    "# Save the model, scaler, and imputer\n",
    "with open('regression_model.pkl', 'wb') as f:\n",
    "    pickle.dump(model, f)"
   ]
  },
  {
   "cell_type": "markdown",
   "metadata": {},
   "source": [
    "## Let's try inference the model"
   ]
  },
  {
   "cell_type": "code",
   "execution_count": 44,
   "metadata": {},
   "outputs": [
    {
     "name": "stdout",
     "output_type": "stream",
     "text": [
      "Predicted bz_gsm_h: 0.14553198346006863\n"
     ]
    }
   ],
   "source": [
    "# Load the scaler, imputer, and model\n",
    "with open('./minmax_scaler.pkl', 'rb') as f:\n",
    "    loaded_scaler = pickle.load(f)\n",
    "\n",
    "with open('./simple_imputer.pkl', 'rb') as f:\n",
    "    loaded_imputer = pickle.load(f)\n",
    "\n",
    "with open('./regression_model.pkl', 'rb') as f:\n",
    "    loaded_model = pickle.load(f)\n",
    "\n",
    "# New data point\n",
    "X_new_raw = np.array([[10, 11, 8, -3.04, 1.73, 2.49, 8.05, 389.8, 16.981, 136272.0, 57307, 84.101, 89.864, 14, 135, 57307, 136]])\n",
    "\n",
    "# Define column names\n",
    "column_names = [\n",
    "    'month', 'day', 'hour', 'bx_gsm', 'by_gsm', 'bz_gsm', 'bt', 'speed', 'density', 'temp',\n",
    "    'intensity', 'declination', 'inclination', 'north', 'east', 'vertical', 'horizontal'\n",
    "]\n",
    "\n",
    "# Create DataFrame for the new data point\n",
    "X_new_df = pd.DataFrame(X_new_raw, columns=column_names)\n",
    "\n",
    "# Apply imputer and scaler transformations with the correct format\n",
    "X_new_imputed = pd.DataFrame(loaded_imputer.transform(X_new_df), columns=column_names)\n",
    "X_new_scaled = pd.DataFrame(loaded_scaler.transform(X_new_imputed), columns=column_names)\n",
    "\n",
    "# Drop unnecessary columns\n",
    "X_new_adjusted = X_new_scaled.drop(['intensity', 'declination', 'inclination', 'north', 'east', 'vertical', 'horizontal'], axis=1)\n",
    "\n",
    "# Predict bz_gsm_h using the loaded model\n",
    "bz_gsm_h = loaded_model.predict(X_new_adjusted)\n",
    "print(f'Predicted bz_gsm_h: {bz_gsm_h[0]}')"
   ]
  },
  {
   "cell_type": "code",
   "execution_count": 45,
   "metadata": {},
   "outputs": [
    {
     "name": "stdout",
     "output_type": "stream",
     "text": [
      "Actual bz_gsm_h value: 2.133498877524606\n"
     ]
    }
   ],
   "source": [
    "bz_gsm_backup = X_new_scaled['bz_gsm']\n",
    "\n",
    "# Prepare DataFrame with all features\n",
    "X_new_scaled['bz_gsm'] = bz_gsm_h\n",
    "\n",
    "# Inverse transform to get back the original value\n",
    "X_new_original = loaded_scaler.inverse_transform(X_new_scaled)\n",
    "bz_gsm_h_original = X_new_original[0, column_names.index('bz_gsm')]\n",
    "print(f'Actual bz_gsm_h value: {bz_gsm_h_original}')\n",
    "X_new_original = pd.DataFrame(X_new_original,columns=column_names)"
   ]
  },
  {
   "cell_type": "code",
   "execution_count": 46,
   "metadata": {},
   "outputs": [
    {
     "name": "stdout",
     "output_type": "stream",
     "text": [
      "   month   day  hour  bx_gsm  by_gsm  bz_gsm    bt  speed  density      temp  \\\n",
      "0   10.0  11.0   8.0   -3.04    1.73    2.49  8.05  389.8   16.981  136272.0   \n",
      "\n",
      "   intensity  declination  inclination  north   east  vertical  horizontal  \\\n",
      "0    57307.0       84.101       89.864   14.0  135.0   57307.0       136.0   \n",
      "\n",
      "   bz_gsm_h  \n",
      "0  2.133499  \n"
     ]
    }
   ],
   "source": [
    "X_new_scaled['bz_gsm'] = bz_gsm_backup\n",
    "\n",
    "# Inverse transform to get back the original value\n",
    "X_new_original = pd.DataFrame(loaded_scaler.inverse_transform(X_new_scaled),columns=column_names)\n",
    "\n",
    "X_new_original['bz_gsm_h'] = bz_gsm_h_original\n",
    "print(X_new_original.head())"
   ]
  },
  {
   "cell_type": "code",
   "execution_count": 39,
   "metadata": {},
   "outputs": [
    {
     "name": "stdout",
     "output_type": "stream",
     "text": [
      "Min value for bz_gsm: 0.0\n",
      "Max value for bz_gsm: 14.66\n"
     ]
    }
   ],
   "source": [
    "# Index of 'bz_gsm' in the list of column names\n",
    "bz_gsm_index = column_names.index('bz_gsm')\n",
    "\n",
    "# Get the min and max values for bz_gsm\n",
    "bz_gsm_min = loaded_scaler.data_min_[bz_gsm_index]\n",
    "bz_gsm_max = loaded_scaler.data_max_[bz_gsm_index]\n",
    "\n",
    "print(f'Min value for bz_gsm: {bz_gsm_min}')\n",
    "print(f'Max value for bz_gsm: {bz_gsm_max}')\n"
   ]
  },
  {
   "cell_type": "code",
   "execution_count": null,
   "metadata": {},
   "outputs": [],
   "source": []
  }
 ],
 "metadata": {
  "kernelspec": {
   "display_name": "Python 3",
   "language": "python",
   "name": "python3"
  },
  "language_info": {
   "codemirror_mode": {
    "name": "ipython",
    "version": 3
   },
   "file_extension": ".py",
   "mimetype": "text/x-python",
   "name": "python",
   "nbconvert_exporter": "python",
   "pygments_lexer": "ipython3",
   "version": "3.11.9"
  }
 },
 "nbformat": 4,
 "nbformat_minor": 2
}
