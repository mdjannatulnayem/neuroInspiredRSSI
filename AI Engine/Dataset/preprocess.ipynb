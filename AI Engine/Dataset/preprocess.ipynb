{
 "cells": [
  {
   "cell_type": "code",
   "execution_count": 55,
   "metadata": {},
   "outputs": [],
   "source": [
    "import numpy as np, pandas as pd, pickle\n",
    "from matplotlib import pyplot as plt\n",
    "from sklearn.cluster import KMeans\n",
    "from sklearn.preprocessing import MinMaxScaler\n",
    "from sklearn.impute import SimpleImputer"
   ]
  },
  {
   "cell_type": "code",
   "execution_count": 56,
   "metadata": {},
   "outputs": [],
   "source": [
    "df = pd.read_csv('./merged-data.csv')\n",
    "df = df.drop('year',axis=1)\n",
    "values_to_replace = [9999.99, 99999.9, 999.999, 9999999.0]\n",
    "df.replace(values_to_replace, np.nan, inplace=True)\n",
    "df.fillna(df.mean(), inplace=True)"
   ]
  },
  {
   "cell_type": "code",
   "execution_count": 57,
   "metadata": {},
   "outputs": [
    {
     "data": {
      "text/html": [
       "<div>\n",
       "<style scoped>\n",
       "    .dataframe tbody tr th:only-of-type {\n",
       "        vertical-align: middle;\n",
       "    }\n",
       "\n",
       "    .dataframe tbody tr th {\n",
       "        vertical-align: top;\n",
       "    }\n",
       "\n",
       "    .dataframe thead th {\n",
       "        text-align: right;\n",
       "    }\n",
       "</style>\n",
       "<table border=\"1\" class=\"dataframe\">\n",
       "  <thead>\n",
       "    <tr style=\"text-align: right;\">\n",
       "      <th></th>\n",
       "      <th>month</th>\n",
       "      <th>day</th>\n",
       "      <th>hour</th>\n",
       "      <th>bx_gsm</th>\n",
       "      <th>by_gsm</th>\n",
       "      <th>bz_gsm</th>\n",
       "      <th>bt</th>\n",
       "      <th>speed</th>\n",
       "      <th>density</th>\n",
       "      <th>temp</th>\n",
       "      <th>intensity</th>\n",
       "      <th>declination</th>\n",
       "      <th>inclination</th>\n",
       "      <th>north</th>\n",
       "      <th>east</th>\n",
       "      <th>vertical</th>\n",
       "      <th>horizontal</th>\n",
       "    </tr>\n",
       "  </thead>\n",
       "  <tbody>\n",
       "    <tr>\n",
       "      <th>0</th>\n",
       "      <td>6</td>\n",
       "      <td>8</td>\n",
       "      <td>1</td>\n",
       "      <td>11.17</td>\n",
       "      <td>1.35</td>\n",
       "      <td>3.37</td>\n",
       "      <td>16.80</td>\n",
       "      <td>431.352471</td>\n",
       "      <td>6.906209</td>\n",
       "      <td>110481.874291</td>\n",
       "      <td>57265</td>\n",
       "      <td>85.373</td>\n",
       "      <td>89.711</td>\n",
       "      <td>23</td>\n",
       "      <td>288</td>\n",
       "      <td>57264</td>\n",
       "      <td>289</td>\n",
       "    </tr>\n",
       "    <tr>\n",
       "      <th>1</th>\n",
       "      <td>6</td>\n",
       "      <td>8</td>\n",
       "      <td>2</td>\n",
       "      <td>10.45</td>\n",
       "      <td>0.69</td>\n",
       "      <td>2.84</td>\n",
       "      <td>17.14</td>\n",
       "      <td>431.352471</td>\n",
       "      <td>6.906209</td>\n",
       "      <td>110481.874291</td>\n",
       "      <td>57265</td>\n",
       "      <td>85.373</td>\n",
       "      <td>89.711</td>\n",
       "      <td>23</td>\n",
       "      <td>288</td>\n",
       "      <td>57264</td>\n",
       "      <td>289</td>\n",
       "    </tr>\n",
       "    <tr>\n",
       "      <th>2</th>\n",
       "      <td>6</td>\n",
       "      <td>8</td>\n",
       "      <td>3</td>\n",
       "      <td>7.73</td>\n",
       "      <td>1.32</td>\n",
       "      <td>3.12</td>\n",
       "      <td>16.26</td>\n",
       "      <td>431.352471</td>\n",
       "      <td>6.906209</td>\n",
       "      <td>110481.874291</td>\n",
       "      <td>57265</td>\n",
       "      <td>85.373</td>\n",
       "      <td>89.711</td>\n",
       "      <td>23</td>\n",
       "      <td>288</td>\n",
       "      <td>57264</td>\n",
       "      <td>289</td>\n",
       "    </tr>\n",
       "    <tr>\n",
       "      <th>3</th>\n",
       "      <td>6</td>\n",
       "      <td>8</td>\n",
       "      <td>4</td>\n",
       "      <td>8.73</td>\n",
       "      <td>0.80</td>\n",
       "      <td>2.66</td>\n",
       "      <td>17.11</td>\n",
       "      <td>431.352471</td>\n",
       "      <td>6.906209</td>\n",
       "      <td>110481.874291</td>\n",
       "      <td>57265</td>\n",
       "      <td>85.373</td>\n",
       "      <td>89.711</td>\n",
       "      <td>23</td>\n",
       "      <td>288</td>\n",
       "      <td>57264</td>\n",
       "      <td>289</td>\n",
       "    </tr>\n",
       "    <tr>\n",
       "      <th>4</th>\n",
       "      <td>6</td>\n",
       "      <td>8</td>\n",
       "      <td>5</td>\n",
       "      <td>7.84</td>\n",
       "      <td>1.28</td>\n",
       "      <td>1.80</td>\n",
       "      <td>20.58</td>\n",
       "      <td>431.352471</td>\n",
       "      <td>6.906209</td>\n",
       "      <td>110481.874291</td>\n",
       "      <td>57265</td>\n",
       "      <td>85.373</td>\n",
       "      <td>89.711</td>\n",
       "      <td>23</td>\n",
       "      <td>288</td>\n",
       "      <td>57264</td>\n",
       "      <td>289</td>\n",
       "    </tr>\n",
       "  </tbody>\n",
       "</table>\n",
       "</div>"
      ],
      "text/plain": [
       "   month  day  hour  bx_gsm  by_gsm  bz_gsm     bt       speed   density  \\\n",
       "0      6    8     1   11.17    1.35    3.37  16.80  431.352471  6.906209   \n",
       "1      6    8     2   10.45    0.69    2.84  17.14  431.352471  6.906209   \n",
       "2      6    8     3    7.73    1.32    3.12  16.26  431.352471  6.906209   \n",
       "3      6    8     4    8.73    0.80    2.66  17.11  431.352471  6.906209   \n",
       "4      6    8     5    7.84    1.28    1.80  20.58  431.352471  6.906209   \n",
       "\n",
       "            temp  intensity  declination  inclination  north  east  vertical  \\\n",
       "0  110481.874291      57265       85.373       89.711     23   288     57264   \n",
       "1  110481.874291      57265       85.373       89.711     23   288     57264   \n",
       "2  110481.874291      57265       85.373       89.711     23   288     57264   \n",
       "3  110481.874291      57265       85.373       89.711     23   288     57264   \n",
       "4  110481.874291      57265       85.373       89.711     23   288     57264   \n",
       "\n",
       "   horizontal  \n",
       "0         289  \n",
       "1         289  \n",
       "2         289  \n",
       "3         289  \n",
       "4         289  "
      ]
     },
     "execution_count": 57,
     "metadata": {},
     "output_type": "execute_result"
    }
   ],
   "source": [
    "df.head()"
   ]
  },
  {
   "cell_type": "code",
   "execution_count": 58,
   "metadata": {},
   "outputs": [],
   "source": [
    "# Strategy to fill missing values\n",
    "imputer = SimpleImputer(strategy='mean')\n",
    "\n",
    "# Impute the missing values for all columns\n",
    "df[df.columns] = imputer.fit_transform(df[df.columns])\n",
    "\n",
    "# Save the imputer to a file using pickle\n",
    "with open('simple_imputer.pkl', 'wb') as f:\n",
    "    pickle.dump(imputer, f)"
   ]
  },
  {
   "cell_type": "code",
   "execution_count": 59,
   "metadata": {},
   "outputs": [
    {
     "name": "stdout",
     "output_type": "stream",
     "text": [
      "      month       day      hour    bx_gsm    by_gsm    bz_gsm        bt  \\\n",
      "0  0.454545  0.233333  0.043478  0.898487  0.142555  0.229877  0.422429   \n",
      "1  0.454545  0.233333  0.086957  0.875788  0.072862  0.193724  0.431235   \n",
      "2  0.454545  0.233333  0.130435  0.790038  0.139388  0.212824  0.408443   \n",
      "3  0.454545  0.233333  0.173913  0.821564  0.084477  0.181446  0.430458   \n",
      "4  0.454545  0.233333  0.217391  0.793506  0.135164  0.122783  0.520332   \n",
      "\n",
      "      speed   density      temp  intensity  declination  inclination  north  \\\n",
      "0  0.311464  0.080716  0.079451        0.0          1.0          0.0    1.0   \n",
      "1  0.311464  0.080716  0.079451        0.0          1.0          0.0    1.0   \n",
      "2  0.311464  0.080716  0.079451        0.0          1.0          0.0    1.0   \n",
      "3  0.311464  0.080716  0.079451        0.0          1.0          0.0    1.0   \n",
      "4  0.311464  0.080716  0.079451        0.0          1.0          0.0    1.0   \n",
      "\n",
      "   east  vertical  horizontal  \n",
      "0   1.0       0.0         1.0  \n",
      "1   1.0       0.0         1.0  \n",
      "2   1.0       0.0         1.0  \n",
      "3   1.0       0.0         1.0  \n",
      "4   1.0       0.0         1.0  \n"
     ]
    }
   ],
   "source": [
    "scaler = MinMaxScaler()\n",
    "\n",
    "columns_to_scale = [\n",
    "    'month', 'day', 'hour','bx_gsm', 'by_gsm', 'bz_gsm', 'bt','speed', 'density', 'temp',\n",
    "    'intensity','declination', 'inclination', 'north','east', 'vertical', 'horizontal'\n",
    "]\n",
    " \n",
    "# Apply the scaler to each column in the list\n",
    "df[columns_to_scale] = scaler.fit_transform(df[columns_to_scale])\n",
    "\n",
    "# Display the first few rows of the DataFrame\n",
    "print(df.head())"
   ]
  },
  {
   "cell_type": "code",
   "execution_count": 60,
   "metadata": {},
   "outputs": [],
   "source": [
    "# Save the scaler to a file using pickle\n",
    "with open('minmax_scaler.pkl', 'wb') as f:\n",
    "    pickle.dump(scaler, f)"
   ]
  },
  {
   "cell_type": "code",
   "execution_count": 61,
   "metadata": {},
   "outputs": [],
   "source": [
    "k_range = range(1,13)\n",
    "sse = []\n",
    "for i in k_range:\n",
    "    clusterer = KMeans(n_clusters=i)\n",
    "    clusterer.fit(df[df.columns.values])\n",
    "    sse.append(clusterer.inertia_)\n"
   ]
  },
  {
   "cell_type": "code",
   "execution_count": 62,
   "metadata": {},
   "outputs": [
    {
     "name": "stdout",
     "output_type": "stream",
     "text": [
      "31601.388625685548\n",
      "17045.24498283751\n",
      "15163.913533239862\n",
      "12672.563257868507\n",
      "11666.513768236659\n",
      "10776.426537880096\n",
      "10291.931955432172\n",
      "9706.722268957263\n",
      "9241.687977596699\n",
      "8695.62708892711\n",
      "8341.807696498527\n",
      "8039.200338975019\n",
      "\n",
      "min: 8039.200338975019\n"
     ]
    }
   ],
   "source": [
    "for err in sse:\n",
    "    print(err)\n",
    "print()\n",
    "print(\"min:\",np.min(sse))"
   ]
  },
  {
   "cell_type": "code",
   "execution_count": 63,
   "metadata": {},
   "outputs": [
    {
     "data": {
      "text/plain": [
       "Text(0, 0.5, 'k')"
      ]
     },
     "execution_count": 63,
     "metadata": {},
     "output_type": "execute_result"
    },
    {
     "data": {
      "image/png": "[encoded data removed]",
      "text/plain": [
       "<Figure size 640x480 with 1 Axes>"
      ]
     },
     "metadata": {},
     "output_type": "display_data"
    }
   ],
   "source": [
    "plt.plot(k_range,sse)\n",
    "plt.ylabel('sum of squared err')\n",
    "plt.xlabel('k')"
   ]
  },
  {
   "cell_type": "code",
   "execution_count": 64,
   "metadata": {},
   "outputs": [],
   "source": [
    "clusterer = KMeans(n_clusters=5)\n",
    "y_predicted = clusterer.fit_predict(df[df.columns.values])\n",
    "df['class'] = y_predicted"
   ]
  },
  {
   "cell_type": "code",
   "execution_count": 65,
   "metadata": {},
   "outputs": [
    {
     "data": {
      "text/html": [
       "<div>\n",
       "<style scoped>\n",
       "    .dataframe tbody tr th:only-of-type {\n",
       "        vertical-align: middle;\n",
       "    }\n",
       "\n",
       "    .dataframe tbody tr th {\n",
       "        vertical-align: top;\n",
       "    }\n",
       "\n",
       "    .dataframe thead th {\n",
       "        text-align: right;\n",
       "    }\n",
       "</style>\n",
       "<table border=\"1\" class=\"dataframe\">\n",
       "  <thead>\n",
       "    <tr style=\"text-align: right;\">\n",
       "      <th></th>\n",
       "      <th>month</th>\n",
       "      <th>day</th>\n",
       "      <th>hour</th>\n",
       "      <th>bx_gsm</th>\n",
       "      <th>by_gsm</th>\n",
       "      <th>bz_gsm</th>\n",
       "      <th>bt</th>\n",
       "      <th>speed</th>\n",
       "      <th>density</th>\n",
       "      <th>temp</th>\n",
       "      <th>intensity</th>\n",
       "      <th>declination</th>\n",
       "      <th>inclination</th>\n",
       "      <th>north</th>\n",
       "      <th>east</th>\n",
       "      <th>vertical</th>\n",
       "      <th>horizontal</th>\n",
       "      <th>class</th>\n",
       "    </tr>\n",
       "  </thead>\n",
       "  <tbody>\n",
       "    <tr>\n",
       "      <th>0</th>\n",
       "      <td>0.454545</td>\n",
       "      <td>0.233333</td>\n",
       "      <td>0.043478</td>\n",
       "      <td>0.898487</td>\n",
       "      <td>0.142555</td>\n",
       "      <td>0.229877</td>\n",
       "      <td>0.422429</td>\n",
       "      <td>0.311464</td>\n",
       "      <td>0.080716</td>\n",
       "      <td>0.079451</td>\n",
       "      <td>0.0</td>\n",
       "      <td>1.0</td>\n",
       "      <td>0.0</td>\n",
       "      <td>1.0</td>\n",
       "      <td>1.0</td>\n",
       "      <td>0.0</td>\n",
       "      <td>1.0</td>\n",
       "      <td>0</td>\n",
       "    </tr>\n",
       "    <tr>\n",
       "      <th>1</th>\n",
       "      <td>0.454545</td>\n",
       "      <td>0.233333</td>\n",
       "      <td>0.086957</td>\n",
       "      <td>0.875788</td>\n",
       "      <td>0.072862</td>\n",
       "      <td>0.193724</td>\n",
       "      <td>0.431235</td>\n",
       "      <td>0.311464</td>\n",
       "      <td>0.080716</td>\n",
       "      <td>0.079451</td>\n",
       "      <td>0.0</td>\n",
       "      <td>1.0</td>\n",
       "      <td>0.0</td>\n",
       "      <td>1.0</td>\n",
       "      <td>1.0</td>\n",
       "      <td>0.0</td>\n",
       "      <td>1.0</td>\n",
       "      <td>0</td>\n",
       "    </tr>\n",
       "    <tr>\n",
       "      <th>2</th>\n",
       "      <td>0.454545</td>\n",
       "      <td>0.233333</td>\n",
       "      <td>0.130435</td>\n",
       "      <td>0.790038</td>\n",
       "      <td>0.139388</td>\n",
       "      <td>0.212824</td>\n",
       "      <td>0.408443</td>\n",
       "      <td>0.311464</td>\n",
       "      <td>0.080716</td>\n",
       "      <td>0.079451</td>\n",
       "      <td>0.0</td>\n",
       "      <td>1.0</td>\n",
       "      <td>0.0</td>\n",
       "      <td>1.0</td>\n",
       "      <td>1.0</td>\n",
       "      <td>0.0</td>\n",
       "      <td>1.0</td>\n",
       "      <td>0</td>\n",
       "    </tr>\n",
       "    <tr>\n",
       "      <th>3</th>\n",
       "      <td>0.454545</td>\n",
       "      <td>0.233333</td>\n",
       "      <td>0.173913</td>\n",
       "      <td>0.821564</td>\n",
       "      <td>0.084477</td>\n",
       "      <td>0.181446</td>\n",
       "      <td>0.430458</td>\n",
       "      <td>0.311464</td>\n",
       "      <td>0.080716</td>\n",
       "      <td>0.079451</td>\n",
       "      <td>0.0</td>\n",
       "      <td>1.0</td>\n",
       "      <td>0.0</td>\n",
       "      <td>1.0</td>\n",
       "      <td>1.0</td>\n",
       "      <td>0.0</td>\n",
       "      <td>1.0</td>\n",
       "      <td>0</td>\n",
       "    </tr>\n",
       "    <tr>\n",
       "      <th>4</th>\n",
       "      <td>0.454545</td>\n",
       "      <td>0.233333</td>\n",
       "      <td>0.217391</td>\n",
       "      <td>0.793506</td>\n",
       "      <td>0.135164</td>\n",
       "      <td>0.122783</td>\n",
       "      <td>0.520332</td>\n",
       "      <td>0.311464</td>\n",
       "      <td>0.080716</td>\n",
       "      <td>0.079451</td>\n",
       "      <td>0.0</td>\n",
       "      <td>1.0</td>\n",
       "      <td>0.0</td>\n",
       "      <td>1.0</td>\n",
       "      <td>1.0</td>\n",
       "      <td>0.0</td>\n",
       "      <td>1.0</td>\n",
       "      <td>0</td>\n",
       "    </tr>\n",
       "  </tbody>\n",
       "</table>\n",
       "</div>"
      ],
      "text/plain": [
       "      month       day      hour    bx_gsm    by_gsm    bz_gsm        bt  \\\n",
       "0  0.454545  0.233333  0.043478  0.898487  0.142555  0.229877  0.422429   \n",
       "1  0.454545  0.233333  0.086957  0.875788  0.072862  0.193724  0.431235   \n",
       "2  0.454545  0.233333  0.130435  0.790038  0.139388  0.212824  0.408443   \n",
       "3  0.454545  0.233333  0.173913  0.821564  0.084477  0.181446  0.430458   \n",
       "4  0.454545  0.233333  0.217391  0.793506  0.135164  0.122783  0.520332   \n",
       "\n",
       "      speed   density      temp  intensity  declination  inclination  north  \\\n",
       "0  0.311464  0.080716  0.079451        0.0          1.0          0.0    1.0   \n",
       "1  0.311464  0.080716  0.079451        0.0          1.0          0.0    1.0   \n",
       "2  0.311464  0.080716  0.079451        0.0          1.0          0.0    1.0   \n",
       "3  0.311464  0.080716  0.079451        0.0          1.0          0.0    1.0   \n",
       "4  0.311464  0.080716  0.079451        0.0          1.0          0.0    1.0   \n",
       "\n",
       "   east  vertical  horizontal  class  \n",
       "0   1.0       0.0         1.0      0  \n",
       "1   1.0       0.0         1.0      0  \n",
       "2   1.0       0.0         1.0      0  \n",
       "3   1.0       0.0         1.0      0  \n",
       "4   1.0       0.0         1.0      0  "
      ]
     },
     "execution_count": 65,
     "metadata": {},
     "output_type": "execute_result"
    }
   ],
   "source": [
    "df.head()"
   ]
  },
  {
   "cell_type": "code",
   "execution_count": 66,
   "metadata": {},
   "outputs": [
    {
     "data": {
      "text/plain": [
       "class\n",
       "2    8807\n",
       "4    8758\n",
       "3    8710\n",
       "0    4966\n",
       "1    4270\n",
       "Name: count, dtype: int64"
      ]
     },
     "execution_count": 66,
     "metadata": {},
     "output_type": "execute_result"
    }
   ],
   "source": [
    "# check distribution\n",
    "df['class'].value_counts()"
   ]
  },
  {
   "cell_type": "code",
   "execution_count": 67,
   "metadata": {},
   "outputs": [],
   "source": [
    "grouped = df.groupby('class')\n",
    "\n",
    "result = grouped.agg({'bx_gsm': ['mean', 'median'], 'by_gsm': ['mean', 'median'],\n",
    "                       'bz_gsm': ['mean', 'median'], 'bt': ['mean', 'median'],\n",
    "                       'vertical':['mean','median']})\n",
    "# Rename the columns for clarity\n",
    "result.columns = ['bx_mean', 'bx_median', 'by_mean',\n",
    "                   'by_median', 'bz_mean', 'bz_median',\n",
    "                     'bt_mean', 'bt_median','vt_mean','vt_median']\n",
    "# Reset the index to make 'class'\n",
    "result.reset_index(inplace=True)\n"
   ]
  },
  {
   "cell_type": "code",
   "execution_count": 68,
   "metadata": {},
   "outputs": [
    {
     "name": "stdout",
     "output_type": "stream",
     "text": [
      "   class   bx_mean  bx_median   by_mean  by_median   bz_mean  bz_median  \\\n",
      "0      0  0.514977   0.508039  0.046683   0.035903  0.082538   0.072249   \n",
      "1      1  0.581171   0.584332  0.039458   0.030623  0.062405   0.054570   \n",
      "2      2  0.526428   0.516709  0.044995   0.032735  0.072911   0.060027   \n",
      "3      3  0.552313   0.549180  0.044704   0.032735  0.078169   0.065484   \n",
      "4      4  0.549551   0.551860  0.044166   0.033791  0.064662   0.051160   \n",
      "\n",
      "    bt_mean  bt_median   vt_mean  vt_median  \n",
      "0  0.154310   0.130536  0.059994   0.054054  \n",
      "1  0.109862   0.103082  0.945110   0.932432  \n",
      "2  0.127582   0.111111  0.478775   0.513514  \n",
      "3  0.138304   0.121471  0.283528   0.270270  \n",
      "4  0.107419   0.094794  0.759607   0.770270  \n"
     ]
    }
   ],
   "source": [
    "print(result)"
   ]
  },
  {
   "cell_type": "code",
   "execution_count": 69,
   "metadata": {},
   "outputs": [
    {
     "data": {
      "text/html": [
       "<div>\n",
       "<style scoped>\n",
       "    .dataframe tbody tr th:only-of-type {\n",
       "        vertical-align: middle;\n",
       "    }\n",
       "\n",
       "    .dataframe tbody tr th {\n",
       "        vertical-align: top;\n",
       "    }\n",
       "\n",
       "    .dataframe thead th {\n",
       "        text-align: right;\n",
       "    }\n",
       "</style>\n",
       "<table border=\"1\" class=\"dataframe\">\n",
       "  <thead>\n",
       "    <tr style=\"text-align: right;\">\n",
       "      <th></th>\n",
       "      <th>class</th>\n",
       "      <th>sum_of_medians</th>\n",
       "    </tr>\n",
       "  </thead>\n",
       "  <tbody>\n",
       "    <tr>\n",
       "      <th>0</th>\n",
       "      <td>0</td>\n",
       "      <td>0.800781</td>\n",
       "    </tr>\n",
       "    <tr>\n",
       "      <th>1</th>\n",
       "      <td>1</td>\n",
       "      <td>1.705039</td>\n",
       "    </tr>\n",
       "    <tr>\n",
       "      <th>2</th>\n",
       "      <td>2</td>\n",
       "      <td>1.234096</td>\n",
       "    </tr>\n",
       "    <tr>\n",
       "      <th>3</th>\n",
       "      <td>3</td>\n",
       "      <td>1.039141</td>\n",
       "    </tr>\n",
       "    <tr>\n",
       "      <th>4</th>\n",
       "      <td>4</td>\n",
       "      <td>1.501875</td>\n",
       "    </tr>\n",
       "  </tbody>\n",
       "</table>\n",
       "</div>"
      ],
      "text/plain": [
       "   class  sum_of_medians\n",
       "0      0        0.800781\n",
       "1      1        1.705039\n",
       "2      2        1.234096\n",
       "3      3        1.039141\n",
       "4      4        1.501875"
      ]
     },
     "execution_count": 69,
     "metadata": {},
     "output_type": "execute_result"
    }
   ],
   "source": [
    "result['sum_of_medians'] = result['bx_median'] + result['by_median'] + \\\n",
    "    result['bz_median'] + result['bt_median'] + result['vt_median']\n",
    "\n",
    "# Group by 'class' and calculate the sum\n",
    "sum_of_medians = result.groupby('class')['sum_of_medians'].sum().reset_index()\n",
    "\n",
    "sum_of_medians"
   ]
  },
  {
   "cell_type": "code",
   "execution_count": 70,
   "metadata": {},
   "outputs": [],
   "source": [
    "\n",
    "df.to_csv('severity-classified-scaled.csv',index=False)"
   ]
  },
  {
   "cell_type": "code",
   "execution_count": 71,
   "metadata": {},
   "outputs": [],
   "source": [
    "# Save the KMeans model to a .pkl file using pickle\n",
    "with open('kmeans_model.pkl', 'wb') as f:\n",
    "    pickle.dump(clusterer, f)"
   ]
  },
  {
   "cell_type": "code",
   "execution_count": 72,
   "metadata": {},
   "outputs": [
    {
     "name": "stdout",
     "output_type": "stream",
     "text": [
      "Scaler Properties:\n",
      "Feature Range: (0, 1)\n",
      "Data Min: [ 1.0000e+00  1.0000e+00  0.0000e+00 -1.7330e+01  0.0000e+00  0.0000e+00\n",
      "  4.9000e-01  2.5930e+02  6.3300e-01  4.4980e+03  5.7265e+04  7.4086e+01\n",
      "  8.9711e+01  7.0000e+00  2.6000e+01  5.7264e+04  2.7000e+01]\n",
      "Data Max: [1.200000e+01 3.100000e+01 2.300000e+01 1.439000e+01 9.470000e+00\n",
      " 1.466000e+01 3.910000e+01 8.117000e+02 7.835300e+01 1.338443e+06\n",
      " 5.733800e+04 8.537300e+01 8.997300e+01 2.300000e+01 2.880000e+02\n",
      " 5.733800e+04 2.890000e+02]\n",
      "Data Range: [1.100000e+01 3.000000e+01 2.300000e+01 3.172000e+01 9.470000e+00\n",
      " 1.466000e+01 3.861000e+01 5.524000e+02 7.772000e+01 1.333945e+06\n",
      " 7.300000e+01 1.128700e+01 2.620000e-01 1.600000e+01 2.620000e+02\n",
      " 7.400000e+01 2.620000e+02]\n",
      "\n",
      "KMeans Model Properties:\n",
      "Number of clusters: 5\n",
      "Cluster Centers: \n",
      "[[0.73693845 0.50623574 0.5        0.51497658 0.04668255 0.08253768\n",
      "  0.15431028 0.31146356 0.0807155  0.07945146 0.05466211 0.9939198\n",
      "  0.05983282 0.95381091 0.93959536 0.05999445 0.93902353]\n",
      " [0.22420694 0.47923497 0.5        0.58117083 0.03945832 0.06240507\n",
      "  0.10986231 0.25754643 0.07758902 0.06642069 0.94435854 0.33652219\n",
      "  0.94905251 0.07374122 0.05159108 0.94511045 0.05094749]\n",
      " [0.74235371 0.49313046 0.49994323 0.52642769 0.04499461 0.07291093\n",
      "  0.12758175 0.33789212 0.07994384 0.08950246 0.47506887 0.91679578\n",
      "  0.48176286 0.53629215 0.51887161 0.47877456 0.51823714]\n",
      " [0.25976412 0.48826636 0.50011481 0.55231311 0.04470351 0.07816923\n",
      "  0.13830403 0.34452321 0.07730729 0.08481984 0.27948666 0.962369\n",
      "  0.28540153 0.73432836 0.71491398 0.28352779 0.71459847]\n",
      " [0.50236667 0.4906828  0.5        0.54955141 0.04416645 0.06466167\n",
      "  0.1074188  0.2782962  0.08640535 0.07035847 0.75747731 0.75930418\n",
      "  0.76198904 0.2597625  0.23896276 0.75960666 0.23801096]]\n",
      "Inertia: 11575.59698302291\n",
      "Labels: [0 0 0 0 0 0 0 0 0 0]\n"
     ]
    }
   ],
   "source": [
    "# Properties of the scaler\n",
    "print(\"Scaler Properties:\")\n",
    "print(f\"Feature Range: {scaler.feature_range}\")\n",
    "print(f\"Data Min: {scaler.data_min_}\")\n",
    "print(f\"Data Max: {scaler.data_max_}\")\n",
    "print(f\"Data Range: {scaler.data_range_}\")\n",
    "\n",
    "# Properties of the KMeans model\n",
    "print(\"\\nKMeans Model Properties:\")\n",
    "print(f\"Number of clusters: {clusterer.n_clusters}\")\n",
    "print(f\"Cluster Centers: \\n{clusterer.cluster_centers_}\")\n",
    "print(f\"Inertia: {clusterer.inertia_}\")\n",
    "print(f\"Labels: {clusterer.labels_[:10]}\")  # Displaying only the first 10 labels for brevity"
   ]
  },
  {
   "cell_type": "code",
   "execution_count": 2,
   "metadata": {},
   "outputs": [
    {
     "name": "stdout",
     "output_type": "stream",
     "text": [
      "[0, 1, 2, 3, 4, -1]\n"
     ]
    }
   ],
   "source": [
    "# Define the mapping dictionary\n",
    "mapping = {0: 0, 3: 1, 2: 2, 4: 3, 1: 4}\n",
    "\n",
    "# Function to apply the mapping\n",
    "def map_value(value):\n",
    "    return mapping.get(value, -1)  # Returns -1 if the value is not in the mapping\n",
    "\n",
    "# Example usage\n",
    "mapped_values = [map_value(v) for v in [0, 3, 2, 4, 1, 5]]\n",
    "print(mapped_values)\n"
   ]
  }
 ],
 "metadata": {
  "kernelspec": {
   "display_name": "Python 3",
   "language": "python",
   "name": "python3"
  },
  "language_info": {
   "codemirror_mode": {
    "name": "ipython",
    "version": 3
   },
   "file_extension": ".py",
   "mimetype": "text/x-python",
   "name": "python",
   "nbconvert_exporter": "python",
   "pygments_lexer": "ipython3",
   "version": "3.11.9"
  }
 },
 "nbformat": 4,
 "nbformat_minor": 2
}
