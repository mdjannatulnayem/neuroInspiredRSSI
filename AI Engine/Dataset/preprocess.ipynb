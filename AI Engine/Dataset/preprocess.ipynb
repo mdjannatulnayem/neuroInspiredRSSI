{
 "cells": [
  {
   "cell_type": "code",
   "execution_count": 22,
   "metadata": {},
   "outputs": [],
   "source": [
    "import numpy as np, pandas as pd, pickle\n",
    "from matplotlib import pyplot as plt\n",
    "from sklearn.cluster import KMeans\n",
    "from sklearn.preprocessing import MinMaxScaler,StandardScaler\n",
    "from sklearn.impute import SimpleImputer"
   ]
  },
  {
   "cell_type": "code",
   "execution_count": 23,
   "metadata": {},
   "outputs": [],
   "source": [
    "df = pd.read_csv('./merged-data.csv')\n",
    "df = df.drop('year',axis=1)\n",
    "values_to_replace = [9999.99, 99999.9, 999.999, 9999999.0]\n",
    "df.replace(values_to_replace, np.nan, inplace=True)\n",
    "df.fillna(df.mean(), inplace=True)"
   ]
  },
  {
   "cell_type": "code",
   "execution_count": 24,
   "metadata": {},
   "outputs": [
    {
     "data": {
      "text/html": [
       "<div>\n",
       "<style scoped>\n",
       "    .dataframe tbody tr th:only-of-type {\n",
       "        vertical-align: middle;\n",
       "    }\n",
       "\n",
       "    .dataframe tbody tr th {\n",
       "        vertical-align: top;\n",
       "    }\n",
       "\n",
       "    .dataframe thead th {\n",
       "        text-align: right;\n",
       "    }\n",
       "</style>\n",
       "<table border=\"1\" class=\"dataframe\">\n",
       "  <thead>\n",
       "    <tr style=\"text-align: right;\">\n",
       "      <th></th>\n",
       "      <th>month</th>\n",
       "      <th>day</th>\n",
       "      <th>hour</th>\n",
       "      <th>bx_gsm</th>\n",
       "      <th>by_gsm</th>\n",
       "      <th>bz_gsm</th>\n",
       "      <th>bt</th>\n",
       "      <th>speed</th>\n",
       "      <th>density</th>\n",
       "      <th>temp</th>\n",
       "      <th>intensity</th>\n",
       "      <th>declination</th>\n",
       "      <th>inclination</th>\n",
       "      <th>north</th>\n",
       "      <th>east</th>\n",
       "      <th>vertical</th>\n",
       "      <th>horizontal</th>\n",
       "    </tr>\n",
       "  </thead>\n",
       "  <tbody>\n",
       "    <tr>\n",
       "      <th>0</th>\n",
       "      <td>6</td>\n",
       "      <td>8</td>\n",
       "      <td>1</td>\n",
       "      <td>11.17</td>\n",
       "      <td>1.35</td>\n",
       "      <td>3.37</td>\n",
       "      <td>16.80</td>\n",
       "      <td>431.352471</td>\n",
       "      <td>6.906209</td>\n",
       "      <td>110481.874291</td>\n",
       "      <td>57265</td>\n",
       "      <td>85.373</td>\n",
       "      <td>89.711</td>\n",
       "      <td>23</td>\n",
       "      <td>288</td>\n",
       "      <td>57264</td>\n",
       "      <td>289</td>\n",
       "    </tr>\n",
       "    <tr>\n",
       "      <th>1</th>\n",
       "      <td>6</td>\n",
       "      <td>8</td>\n",
       "      <td>2</td>\n",
       "      <td>10.45</td>\n",
       "      <td>0.69</td>\n",
       "      <td>2.84</td>\n",
       "      <td>17.14</td>\n",
       "      <td>431.352471</td>\n",
       "      <td>6.906209</td>\n",
       "      <td>110481.874291</td>\n",
       "      <td>57265</td>\n",
       "      <td>85.373</td>\n",
       "      <td>89.711</td>\n",
       "      <td>23</td>\n",
       "      <td>288</td>\n",
       "      <td>57264</td>\n",
       "      <td>289</td>\n",
       "    </tr>\n",
       "    <tr>\n",
       "      <th>2</th>\n",
       "      <td>6</td>\n",
       "      <td>8</td>\n",
       "      <td>3</td>\n",
       "      <td>7.73</td>\n",
       "      <td>1.32</td>\n",
       "      <td>3.12</td>\n",
       "      <td>16.26</td>\n",
       "      <td>431.352471</td>\n",
       "      <td>6.906209</td>\n",
       "      <td>110481.874291</td>\n",
       "      <td>57265</td>\n",
       "      <td>85.373</td>\n",
       "      <td>89.711</td>\n",
       "      <td>23</td>\n",
       "      <td>288</td>\n",
       "      <td>57264</td>\n",
       "      <td>289</td>\n",
       "    </tr>\n",
       "    <tr>\n",
       "      <th>3</th>\n",
       "      <td>6</td>\n",
       "      <td>8</td>\n",
       "      <td>4</td>\n",
       "      <td>8.73</td>\n",
       "      <td>0.80</td>\n",
       "      <td>2.66</td>\n",
       "      <td>17.11</td>\n",
       "      <td>431.352471</td>\n",
       "      <td>6.906209</td>\n",
       "      <td>110481.874291</td>\n",
       "      <td>57265</td>\n",
       "      <td>85.373</td>\n",
       "      <td>89.711</td>\n",
       "      <td>23</td>\n",
       "      <td>288</td>\n",
       "      <td>57264</td>\n",
       "      <td>289</td>\n",
       "    </tr>\n",
       "    <tr>\n",
       "      <th>4</th>\n",
       "      <td>6</td>\n",
       "      <td>8</td>\n",
       "      <td>5</td>\n",
       "      <td>7.84</td>\n",
       "      <td>1.28</td>\n",
       "      <td>1.80</td>\n",
       "      <td>20.58</td>\n",
       "      <td>431.352471</td>\n",
       "      <td>6.906209</td>\n",
       "      <td>110481.874291</td>\n",
       "      <td>57265</td>\n",
       "      <td>85.373</td>\n",
       "      <td>89.711</td>\n",
       "      <td>23</td>\n",
       "      <td>288</td>\n",
       "      <td>57264</td>\n",
       "      <td>289</td>\n",
       "    </tr>\n",
       "  </tbody>\n",
       "</table>\n",
       "</div>"
      ],
      "text/plain": [
       "   month  day  hour  bx_gsm  ...  north  east  vertical  horizontal\n",
       "0      6    8     1   11.17  ...     23   288     57264         289\n",
       "1      6    8     2   10.45  ...     23   288     57264         289\n",
       "2      6    8     3    7.73  ...     23   288     57264         289\n",
       "3      6    8     4    8.73  ...     23   288     57264         289\n",
       "4      6    8     5    7.84  ...     23   288     57264         289\n",
       "\n",
       "[5 rows x 17 columns]"
      ]
     },
     "execution_count": 24,
     "metadata": {},
     "output_type": "execute_result"
    }
   ],
   "source": [
    "df.head()"
   ]
  },
  {
   "cell_type": "code",
   "execution_count": 25,
   "metadata": {},
   "outputs": [],
   "source": [
    "# Strategy to fill missing values\n",
    "imputer = SimpleImputer(strategy='mean')\n",
    "\n",
    "# Impute the missing values for all columns\n",
    "df[df.columns] = imputer.fit_transform(df[df.columns])\n",
    "\n",
    "# Save the imputer to a file using pickle\n",
    "with open('simple_imputer.pkl', 'wb') as f:\n",
    "    pickle.dump(imputer, f)"
   ]
  },
  {
   "cell_type": "code",
   "execution_count": 26,
   "metadata": {},
   "outputs": [
    {
     "name": "stdout",
     "output_type": "stream",
     "text": [
      "      month       day      hour  ...      east  vertical  horizontal\n",
      "0 -0.151583 -0.883816 -1.517247  ...  1.695851 -1.691384    1.696862\n",
      "1 -0.151583 -0.883816 -1.372752  ...  1.695851 -1.691384    1.696862\n",
      "2 -0.151583 -0.883816 -1.228256  ...  1.695851 -1.691384    1.696862\n",
      "3 -0.151583 -0.883816 -1.083761  ...  1.695851 -1.691384    1.696862\n",
      "4 -0.151583 -0.883816 -0.939266  ...  1.695851 -1.691384    1.696862\n",
      "\n",
      "[5 rows x 17 columns]\n"
     ]
    }
   ],
   "source": [
    "#scaler = MinMaxScaler()\n",
    "scaler =StandardScaler()\n",
    "\n",
    "columns_to_scale = [\n",
    "    'month', 'day', 'hour','bx_gsm', 'by_gsm', 'bz_gsm', 'bt','speed', 'density', 'temp',\n",
    "    'intensity','declination', 'inclination', 'north','east', 'vertical', 'horizontal'\n",
    "]\n",
    " \n",
    "# Apply the scaler to each column in the list\n",
    "df[columns_to_scale] = scaler.fit_transform(df[columns_to_scale])\n",
    "\n",
    "# Display the first few rows of the DataFrame\n",
    "print(df.head())"
   ]
  },
  {
   "cell_type": "code",
   "execution_count": 27,
   "metadata": {},
   "outputs": [],
   "source": [
    "# Save the scaler to a file using pickle\n",
    "with open('standard_scaler.pkl', 'wb') as f:\n",
    "    pickle.dump(scaler, f)"
   ]
  },
  {
   "cell_type": "code",
   "execution_count": 28,
   "metadata": {},
   "outputs": [],
   "source": [
    "k_range = range(1,15)\n",
    "sse = []\n",
    "for i in k_range:\n",
    "    clusterer = KMeans(n_clusters=i)\n",
    "    clusterer.fit(df[df.columns.values])\n",
    "    sse.append(clusterer.inertia_)\n"
   ]
  },
  {
   "cell_type": "code",
   "execution_count": 29,
   "metadata": {},
   "outputs": [
    {
     "name": "stdout",
     "output_type": "stream",
     "text": [
      "603687.0000000002\n",
      "423853.99417385657\n",
      "383875.0195179984\n",
      "347800.57963312033\n",
      "323913.53712552413\n",
      "308139.06512350426\n",
      "297327.1140651393\n",
      "287345.84126848605\n",
      "276181.7199137997\n",
      "273125.1183293639\n",
      "266550.08469292725\n",
      "258074.5700956265\n",
      "252985.49306900945\n",
      "248042.36592784134\n",
      "\n",
      "min: 248042.36592784134\n"
     ]
    }
   ],
   "source": [
    "for err in sse:\n",
    "    print(err)\n",
    "print()\n",
    "print(\"min:\",np.min(sse))"
   ]
  },
  {
   "cell_type": "code",
   "execution_count": 30,
   "metadata": {},
   "outputs": [
    {
     "data": {
      "text/plain": [
       "Text(0.5, 0, 'k')"
      ]
     },
     "execution_count": 30,
     "metadata": {},
     "output_type": "execute_result"
    },
    {
     "data": {
      "image/png": "[encoded data removed]",
      "text/plain": [
       "<Figure size 640x480 with 1 Axes>"
      ]
     },
     "metadata": {},
     "output_type": "display_data"
    }
   ],
   "source": [
    "plt.plot(k_range,sse)\n",
    "plt.ylabel('sum of squared err')\n",
    "plt.xlabel('k')"
   ]
  },
  {
   "cell_type": "code",
   "execution_count": 38,
   "metadata": {},
   "outputs": [],
   "source": [
    "clusterer = KMeans(n_clusters=5)\n",
    "y_predicted = clusterer.fit_predict(df[df.columns.values])\n",
    "df['class'] = y_predicted"
   ]
  },
  {
   "cell_type": "code",
   "execution_count": 39,
   "metadata": {},
   "outputs": [
    {
     "data": {
      "text/html": [
       "<div>\n",
       "<style scoped>\n",
       "    .dataframe tbody tr th:only-of-type {\n",
       "        vertical-align: middle;\n",
       "    }\n",
       "\n",
       "    .dataframe tbody tr th {\n",
       "        vertical-align: top;\n",
       "    }\n",
       "\n",
       "    .dataframe thead th {\n",
       "        text-align: right;\n",
       "    }\n",
       "</style>\n",
       "<table border=\"1\" class=\"dataframe\">\n",
       "  <thead>\n",
       "    <tr style=\"text-align: right;\">\n",
       "      <th></th>\n",
       "      <th>month</th>\n",
       "      <th>day</th>\n",
       "      <th>hour</th>\n",
       "      <th>bx_gsm</th>\n",
       "      <th>by_gsm</th>\n",
       "      <th>bz_gsm</th>\n",
       "      <th>bt</th>\n",
       "      <th>speed</th>\n",
       "      <th>density</th>\n",
       "      <th>temp</th>\n",
       "      <th>intensity</th>\n",
       "      <th>declination</th>\n",
       "      <th>inclination</th>\n",
       "      <th>north</th>\n",
       "      <th>east</th>\n",
       "      <th>vertical</th>\n",
       "      <th>horizontal</th>\n",
       "      <th>class</th>\n",
       "    </tr>\n",
       "  </thead>\n",
       "  <tbody>\n",
       "    <tr>\n",
       "      <th>0</th>\n",
       "      <td>-0.151583</td>\n",
       "      <td>-0.883816</td>\n",
       "      <td>-1.517247</td>\n",
       "      <td>3.453821</td>\n",
       "      <td>2.353381</td>\n",
       "      <td>2.893202</td>\n",
       "      <td>4.422568</td>\n",
       "      <td>0.0</td>\n",
       "      <td>0.0</td>\n",
       "      <td>0.0</td>\n",
       "      <td>-1.674089</td>\n",
       "      <td>0.788667</td>\n",
       "      <td>-1.694938</td>\n",
       "      <td>1.639882</td>\n",
       "      <td>1.695851</td>\n",
       "      <td>-1.691384</td>\n",
       "      <td>1.696862</td>\n",
       "      <td>2</td>\n",
       "    </tr>\n",
       "    <tr>\n",
       "      <th>1</th>\n",
       "      <td>-0.151583</td>\n",
       "      <td>-0.883816</td>\n",
       "      <td>-1.372752</td>\n",
       "      <td>3.233001</td>\n",
       "      <td>0.684281</td>\n",
       "      <td>2.229632</td>\n",
       "      <td>4.554325</td>\n",
       "      <td>0.0</td>\n",
       "      <td>0.0</td>\n",
       "      <td>0.0</td>\n",
       "      <td>-1.674089</td>\n",
       "      <td>0.788667</td>\n",
       "      <td>-1.694938</td>\n",
       "      <td>1.639882</td>\n",
       "      <td>1.695851</td>\n",
       "      <td>-1.691384</td>\n",
       "      <td>1.696862</td>\n",
       "      <td>2</td>\n",
       "    </tr>\n",
       "    <tr>\n",
       "      <th>2</th>\n",
       "      <td>-0.151583</td>\n",
       "      <td>-0.883816</td>\n",
       "      <td>-1.228256</td>\n",
       "      <td>2.398790</td>\n",
       "      <td>2.277513</td>\n",
       "      <td>2.580197</td>\n",
       "      <td>4.213307</td>\n",
       "      <td>0.0</td>\n",
       "      <td>0.0</td>\n",
       "      <td>0.0</td>\n",
       "      <td>-1.674089</td>\n",
       "      <td>0.788667</td>\n",
       "      <td>-1.694938</td>\n",
       "      <td>1.639882</td>\n",
       "      <td>1.695851</td>\n",
       "      <td>-1.691384</td>\n",
       "      <td>1.696862</td>\n",
       "      <td>2</td>\n",
       "    </tr>\n",
       "    <tr>\n",
       "      <th>3</th>\n",
       "      <td>-0.151583</td>\n",
       "      <td>-0.883816</td>\n",
       "      <td>-1.083761</td>\n",
       "      <td>2.705485</td>\n",
       "      <td>0.962465</td>\n",
       "      <td>2.004268</td>\n",
       "      <td>4.542699</td>\n",
       "      <td>0.0</td>\n",
       "      <td>0.0</td>\n",
       "      <td>0.0</td>\n",
       "      <td>-1.674089</td>\n",
       "      <td>0.788667</td>\n",
       "      <td>-1.694938</td>\n",
       "      <td>1.639882</td>\n",
       "      <td>1.695851</td>\n",
       "      <td>-1.691384</td>\n",
       "      <td>1.696862</td>\n",
       "      <td>2</td>\n",
       "    </tr>\n",
       "    <tr>\n",
       "      <th>4</th>\n",
       "      <td>-0.151583</td>\n",
       "      <td>-0.883816</td>\n",
       "      <td>-0.939266</td>\n",
       "      <td>2.432527</td>\n",
       "      <td>2.176355</td>\n",
       "      <td>0.927531</td>\n",
       "      <td>5.887395</td>\n",
       "      <td>0.0</td>\n",
       "      <td>0.0</td>\n",
       "      <td>0.0</td>\n",
       "      <td>-1.674089</td>\n",
       "      <td>0.788667</td>\n",
       "      <td>-1.694938</td>\n",
       "      <td>1.639882</td>\n",
       "      <td>1.695851</td>\n",
       "      <td>-1.691384</td>\n",
       "      <td>1.696862</td>\n",
       "      <td>2</td>\n",
       "    </tr>\n",
       "  </tbody>\n",
       "</table>\n",
       "</div>"
      ],
      "text/plain": [
       "      month       day      hour  ...  vertical  horizontal  class\n",
       "0 -0.151583 -0.883816 -1.517247  ... -1.691384    1.696862      2\n",
       "1 -0.151583 -0.883816 -1.372752  ... -1.691384    1.696862      2\n",
       "2 -0.151583 -0.883816 -1.228256  ... -1.691384    1.696862      2\n",
       "3 -0.151583 -0.883816 -1.083761  ... -1.691384    1.696862      2\n",
       "4 -0.151583 -0.883816 -0.939266  ... -1.691384    1.696862      2\n",
       "\n",
       "[5 rows x 18 columns]"
      ]
     },
     "execution_count": 39,
     "metadata": {},
     "output_type": "execute_result"
    }
   ],
   "source": [
    "df.head()"
   ]
  },
  {
   "cell_type": "code",
   "execution_count": 40,
   "metadata": {},
   "outputs": [
    {
     "data": {
      "text/plain": [
       "class\n",
       "1    11570\n",
       "0     8682\n",
       "2     6621\n",
       "4     4373\n",
       "3     4265\n",
       "Name: count, dtype: int64"
      ]
     },
     "execution_count": 40,
     "metadata": {},
     "output_type": "execute_result"
    }
   ],
   "source": [
    "# check distribution\n",
    "df['class'].value_counts()"
   ]
  },
  {
   "cell_type": "code",
   "execution_count": 41,
   "metadata": {},
   "outputs": [],
   "source": [
    "grouped = df.groupby('class')\n",
    "\n",
    "result = grouped.agg({'bx_gsm': ['mean', 'median'], 'by_gsm': ['mean', 'median'],\n",
    "                       'bz_gsm': ['mean', 'median'], 'bt': ['mean', 'median'],\n",
    "                       'vertical':['mean','median']})\n",
    "# Rename the columns for clarity\n",
    "result.columns = ['bx_mean', 'bx_median', 'by_mean',\n",
    "                   'by_median', 'bz_mean', 'bz_median',\n",
    "                     'bt_mean', 'bt_median','vt_mean','vt_median']\n",
    "# Reset the index to make 'class'\n",
    "result.reset_index(inplace=True)\n"
   ]
  },
  {
   "cell_type": "code",
   "execution_count": 42,
   "metadata": {},
   "outputs": [
    {
     "name": "stdout",
     "output_type": "stream",
     "text": [
      "   class   bx_mean  bx_median  ...  bt_median   vt_mean  vt_median\n",
      "0      0  0.044258   0.043373  ...  -0.526070  0.842525   0.834674\n",
      "1      1  0.301863   0.393005  ...  -0.216053 -0.491186  -0.451319\n",
      "2      2 -0.801566  -0.830708  ...   0.101714 -1.255991  -1.278029\n",
      "3      3 -0.026361  -0.076238  ...  -0.088172  0.026110   0.007964\n",
      "4      4  0.352802   0.389938  ...  -0.332309  1.503035   1.477671\n",
      "\n",
      "[5 rows x 11 columns]\n"
     ]
    }
   ],
   "source": [
    "print(result)"
   ]
  },
  {
   "cell_type": "code",
   "execution_count": 16,
   "metadata": {},
   "outputs": [
    {
     "data": {
      "text/html": [
       "<div>\n",
       "<style scoped>\n",
       "    .dataframe tbody tr th:only-of-type {\n",
       "        vertical-align: middle;\n",
       "    }\n",
       "\n",
       "    .dataframe tbody tr th {\n",
       "        vertical-align: top;\n",
       "    }\n",
       "\n",
       "    .dataframe thead th {\n",
       "        text-align: right;\n",
       "    }\n",
       "</style>\n",
       "<table border=\"1\" class=\"dataframe\">\n",
       "  <thead>\n",
       "    <tr style=\"text-align: right;\">\n",
       "      <th></th>\n",
       "      <th>class</th>\n",
       "      <th>sum_of_medians</th>\n",
       "    </tr>\n",
       "  </thead>\n",
       "  <tbody>\n",
       "    <tr>\n",
       "      <th>0</th>\n",
       "      <td>0</td>\n",
       "      <td>-0.200382</td>\n",
       "    </tr>\n",
       "    <tr>\n",
       "      <th>1</th>\n",
       "      <td>1</td>\n",
       "      <td>-0.513116</td>\n",
       "    </tr>\n",
       "    <tr>\n",
       "      <th>2</th>\n",
       "      <td>2</td>\n",
       "      <td>-1.865767</td>\n",
       "    </tr>\n",
       "    <tr>\n",
       "      <th>3</th>\n",
       "      <td>3</td>\n",
       "      <td>1.521299</td>\n",
       "    </tr>\n",
       "    <tr>\n",
       "      <th>4</th>\n",
       "      <td>4</td>\n",
       "      <td>-1.715058</td>\n",
       "    </tr>\n",
       "    <tr>\n",
       "      <th>5</th>\n",
       "      <td>5</td>\n",
       "      <td>5.287800</td>\n",
       "    </tr>\n",
       "    <tr>\n",
       "      <th>6</th>\n",
       "      <td>6</td>\n",
       "      <td>0.871725</td>\n",
       "    </tr>\n",
       "  </tbody>\n",
       "</table>\n",
       "</div>"
      ],
      "text/plain": [
       "   class  sum_of_medians\n",
       "0      0       -0.200382\n",
       "1      1       -0.513116\n",
       "2      2       -1.865767\n",
       "3      3        1.521299\n",
       "4      4       -1.715058\n",
       "5      5        5.287800\n",
       "6      6        0.871725"
      ]
     },
     "execution_count": 16,
     "metadata": {},
     "output_type": "execute_result"
    }
   ],
   "source": [
    "result['sum_of_medians'] = result['bx_median'] + result['by_median'] + \\\n",
    "    result['bz_median'] + result['bt_median'] + result['vt_median']\n",
    "\n",
    "# Group by 'class' and calculate the sum\n",
    "sum_of_medians = result.groupby('class')['sum_of_medians'].sum().reset_index()\n",
    "\n",
    "sum_of_medians"
   ]
  },
  {
   "cell_type": "code",
   "execution_count": 17,
   "metadata": {},
   "outputs": [],
   "source": [
    "\n",
    "df.to_csv('severity-classified-scaled.csv',index=False)"
   ]
  },
  {
   "cell_type": "code",
   "execution_count": 18,
   "metadata": {},
   "outputs": [],
   "source": [
    "# Save the KMeans model to a .pkl file using pickle\n",
    "with open('kmeans_model.pkl', 'wb') as f:\n",
    "    pickle.dump(clusterer, f)"
   ]
  },
  {
   "cell_type": "code",
   "execution_count": 21,
   "metadata": {},
   "outputs": [
    {
     "name": "stdout",
     "output_type": "stream",
     "text": [
      "Scaler Properties:\n",
      "mean: [ 6.51910676e+00  1.57448678e+01  1.15003238e+01 -9.14200295e-02\n",
      "  4.19419683e-01  1.05917242e+00  5.38752737e+00  4.31352471e+02\n",
      "  6.90620884e+00  1.10481874e+05  5.73010901e+04  8.34558202e+01\n",
      "  8.98419728e+01  1.53109459e+01  1.57149503e+02  5.73008266e+04\n",
      "  1.57985272e+02]\n",
      "std: [3.42457474e+00 8.76298845e+00 6.92064252e+00 3.26056832e+00\n",
      " 3.95422687e-01 7.98709320e-01 2.58050827e+00 8.17870228e+01\n",
      " 4.72746791e+00 9.56836246e+04 2.15580549e+01 2.43091268e+00\n",
      " 7.72729289e-02 4.68878405e+00 7.71592011e+01 2.17730518e+01\n",
      " 7.72100037e+01]\n",
      "\n",
      "KMeans Model Properties:\n",
      "Number of clusters: 7\n",
      "Cluster Centers: \n",
      "[[ 1.86596912e-01  6.89971944e-03 -7.01483907e-03 -7.23796372e-02\n",
      "   1.01463390e-01  4.32045603e-01  6.25670787e-02  2.02051889e+00\n",
      "  -6.81656579e-01  1.80774196e+00 -1.93909751e-02  3.26536246e-01\n",
      "  -1.67312939e-02  1.29303673e-02  1.72428725e-02 -1.87881909e-02\n",
      "   1.72876380e-02]\n",
      " [ 2.49670281e-01  2.83125496e-02  3.92153170e-03  3.07413325e-02\n",
      "  -1.86134780e-01 -2.89673341e-01 -4.09322856e-01 -3.07676363e-01\n",
      "  -1.68708216e-01 -3.04120176e-01  8.22125293e-01 -2.60601522e-01\n",
      "   8.20076616e-01 -8.18788860e-01 -8.20170005e-01  8.22586364e-01\n",
      "  -8.20202260e-01]\n",
      " [ 2.10399391e-02  3.15405715e-02  9.04611976e-03 -1.67975144e-01\n",
      "  -1.56953497e-01  2.17817866e-02  2.62186546e-01  5.52098559e-02\n",
      "  -3.24976869e-02  7.67162492e-03 -1.25730079e+00  7.22686212e-01\n",
      "  -1.25994912e+00  1.25814158e+00  1.25919022e+00 -1.25963894e+00\n",
      "   1.25945012e+00]\n",
      " [ 1.02024205e-02 -1.79804815e-01 -9.19293535e-02 -2.53276217e-02\n",
      "   1.02881992e+00  3.28919987e-01  3.17880118e-01 -1.00664215e+00\n",
      "   3.09458351e+00 -6.34501194e-01  4.63809510e-01 -2.69713812e-02\n",
      "   4.64810002e-01 -4.56772078e-01 -4.64598931e-01  4.66141457e-01\n",
      "  -4.64646108e-01]\n",
      " [ 8.91063581e-02 -2.38148663e-03  4.73572262e-04 -5.21422746e-03\n",
      "  -3.26065700e-01 -3.80536681e-01 -2.78205747e-01 -4.34669308e-01\n",
      "  -1.01152136e-01 -5.20598324e-01 -2.60441008e-01  4.81749020e-01\n",
      "  -2.55982501e-01  2.56483312e-01  2.57711081e-01 -2.57145614e-01\n",
      "   2.56733832e-01]\n",
      " [ 3.99097086e-02 -1.65019640e-02  3.55815265e-02  3.32104139e-02\n",
      "   2.48311529e+00  2.27421697e+00  2.23390682e+00  1.78581071e-01\n",
      "   3.78203245e-01  5.06621018e-01 -6.44227141e-01  5.42523982e-01\n",
      "  -6.43400443e-01  6.40931062e-01  6.43389798e-01 -6.44031871e-01\n",
      "   6.43892260e-01]\n",
      " [-8.85324533e-01 -5.06170589e-02  1.27932472e-03  3.68769539e-01\n",
      "  -1.53950867e-01 -1.99607914e-01 -2.73092514e-01 -3.56511838e-01\n",
      "  -1.18314620e-01 -1.84175663e-01  1.52523238e+00 -2.30177988e+00\n",
      "   1.52438023e+00 -1.52258550e+00 -1.52600352e+00  1.52227476e+00\n",
      "  -1.52507987e+00]]\n",
      "Inertia: 294173.1923326204\n",
      "Labels: [5 5 5 5 5 5 5 5 5 5]\n"
     ]
    }
   ],
   "source": [
    "# Properties of the scaler\n",
    "print(\"Scaler Properties:\")\n",
    "print(f\"mean: {scaler.mean_}\")\n",
    "print(f\"std: {scaler.scale_}\")\n",
    "\n",
    "\n",
    "# Properties of the KMeans model\n",
    "print(\"\\nKMeans Model Properties:\")\n",
    "print(f\"Number of clusters: {clusterer.n_clusters}\")\n",
    "print(f\"Cluster Centers: \\n{clusterer.cluster_centers_}\")\n",
    "print(f\"Inertia: {clusterer.inertia_}\")\n",
    "print(f\"Labels: {clusterer.labels_[:10]}\")  # Displaying only the first 10 labels for brevity"
   ]
  },
  {
   "cell_type": "code",
   "execution_count": 20,
   "metadata": {},
   "outputs": [
    {
     "name": "stdout",
     "output_type": "stream",
     "text": [
      "[0, 1, 2, 3, 4, -1]\n"
     ]
    }
   ],
   "source": [
    "# Define the mapping dictionary\n",
    "mapping = {0: 0, 3: 1, 2: 2, 4: 3, 1: 4}\n",
    "\n",
    "# Function to apply the mapping\n",
    "def map_value(value):\n",
    "    return mapping.get(value, -1)  # Returns -1 if the value is not in the mapping\n",
    "\n",
    "# Example usage\n",
    "mapped_values = [map_value(v) for v in [0, 3, 2, 4, 1, 5]]\n",
    "print(mapped_values)\n"
   ]
  }
 ],
 "metadata": {
  "kernelspec": {
   "display_name": "Python 3",
   "language": "python",
   "name": "python3"
  },
  "language_info": {
   "codemirror_mode": {
    "name": "ipython",
    "version": 3
   },
   "file_extension": ".py",
   "mimetype": "text/x-python",
   "name": "python",
   "nbconvert_exporter": "python",
   "pygments_lexer": "ipython3",
   "version": "3.13.2"
  }
 },
 "nbformat": 4,
 "nbformat_minor": 2
}
